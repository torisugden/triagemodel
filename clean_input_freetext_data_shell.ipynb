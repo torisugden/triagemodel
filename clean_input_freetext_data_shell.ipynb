{
 "cells": [
  {
   "cell_type": "markdown",
   "metadata": {},
   "source": [
    "This is a shell program to call the clean_input_text function"
   ]
  },
  {
   "cell_type": "code",
   "execution_count": 1,
   "metadata": {},
   "outputs": [],
   "source": [
    "%run toris_functions.ipynb\n",
    "#Loading NLTK\n",
    "import nltk\n",
    "#nltk.download('punkt')\n",
    "#nltk.download('stopwords')\n",
    "#nltk.download('wordnet')\n",
    "\n",
    "import pandas as pd\n",
    "#from ipynb.fs.full.toris_functions import clean_input_text\n",
    "\n",
    "\n",
    "#Read in dictionary file\n",
    "Dictpath = 'ClinicalAbbreviations.xlsx' \n",
    "Dictdata = pd.read_excel (Dictpath)\n",
    "dictdf = pd.DataFrame(Dictdata)\n",
    "#Set up dictionary\n",
    "my_dict = dict(zip(dictdf['Abbreviation'], dictdf['Meaning']))\n",
    "my_dict = {r\"\\b{}\\b\".format(k): v for k, v in my_dict.items()}\n",
    "\n",
    "#Read in corrections file\n",
    "Corrpath = 'corrected_list.csv' \n",
    "Corrdata = pd.read_csv (Corrpath)\n",
    "corrdf = pd.DataFrame(Corrdata)\n",
    "#Set up corrections dictionary\n",
    "my_dictc = dict(zip(corrdf['Word'], corrdf['spell_corrected']))\n",
    "my_dictc = {r\"\\b{}\\b\".format(k): v for k, v in my_dictc.items()}"
   ]
  },
  {
   "cell_type": "code",
   "execution_count": 2,
   "metadata": {},
   "outputs": [
    {
     "name": "stdout",
     "output_type": "stream",
     "text": [
      "Enter Triage Presenting Information: Alert and active, crying at triage. Paracetamol given at 1900hrs. Nil obvious deformity or swelling to Lt leg. Denies PMH, NKDA, IUTD.\n",
      "Alert and active, crying at triage. Paracetamol given at 1900hrs. Nil obvious deformity or swelling to Lt leg. Denies PMH, NKDA, IUTD.\n"
     ]
    }
   ],
   "source": [
    "#read input from user\n",
    "tpi = input(\"Enter Triage Presenting Information: \")\n",
    "print(tpi)"
   ]
  },
  {
   "cell_type": "code",
   "execution_count": 3,
   "metadata": {},
   "outputs": [
    {
     "name": "stdout",
     "output_type": "stream",
     "text": [
      "Enter Triage Presenting Additional Information: Alert\n",
      "Alert\n"
     ]
    }
   ],
   "source": [
    "#read input from user\n",
    "tpai = input(\"Enter Triage Presenting Additional Information: \")\n",
    "print(tpai)"
   ]
  },
  {
   "cell_type": "code",
   "execution_count": 4,
   "metadata": {},
   "outputs": [
    {
     "name": "stdout",
     "output_type": "stream",
     "text": [
      "alert active crying triage paracetamol given hours nil obvious deformity swelling left leg denies pmh nkda iutd alert\n"
     ]
    }
   ],
   "source": [
    "output_text = clean_input_text(tpi, tpai)\n",
    "print (output_text)"
   ]
  },
  {
   "cell_type": "code",
   "execution_count": null,
   "metadata": {},
   "outputs": [],
   "source": []
  },
  {
   "cell_type": "code",
   "execution_count": null,
   "metadata": {},
   "outputs": [],
   "source": []
  }
 ],
 "metadata": {
  "kernelspec": {
   "display_name": "Python 3",
   "language": "python",
   "name": "python3"
  },
  "language_info": {
   "codemirror_mode": {
    "name": "ipython",
    "version": 3
   },
   "file_extension": ".py",
   "mimetype": "text/x-python",
   "name": "python",
   "nbconvert_exporter": "python",
   "pygments_lexer": "ipython3",
   "version": "3.7.3"
  }
 },
 "nbformat": 4,
 "nbformat_minor": 2
}
